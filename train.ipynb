{
 "cells": [
  {
   "cell_type": "code",
   "execution_count": 1,
   "metadata": {},
   "outputs": [],
   "source": [
    "from tensorflow.keras.preprocessing.image import ImageDataGenerator\n",
    "from tensorflow.keras.applications import MobileNetV2\n",
    "from tensorflow.keras.layers import AveragePooling2D\n",
    "from tensorflow.keras.layers import Dropout\n",
    "from tensorflow.keras.layers import Flatten\n",
    "from tensorflow.keras.layers import Dense\n",
    "from tensorflow.keras.layers import Input\n",
    "from tensorflow.keras.models import Model\n",
    "from tensorflow.keras.optimizers import Adam\n",
    "from tensorflow.keras.applications.mobilenet_v2 import preprocess_input\n",
    "from tensorflow.keras.preprocessing.image import img_to_array\n",
    "from tensorflow.keras.preprocessing.image import load_img\n",
    "from tensorflow.keras.utils import to_categorical\n",
    "from sklearn.preprocessing import LabelBinarizer\n",
    "from sklearn.model_selection import train_test_split\n",
    "from sklearn.metrics import classification_report\n",
    "from imutils import paths\n",
    "import matplotlib.pyplot as plt\n",
    "import numpy as np\n",
    "import os\n"
   ]
  },
  {
   "cell_type": "code",
   "execution_count": 2,
   "metadata": {},
   "outputs": [],
   "source": [
    "INIT_LR = 1e-4\n",
    "EPOCHS = 20\n",
    "BS = 32"
   ]
  },
  {
   "cell_type": "code",
   "execution_count": 3,
   "metadata": {},
   "outputs": [],
   "source": [
    "DIRECTORY = r\"C:\\Users/PC/Desktop/VIDYA MASK project/dataset/\"\n",
    "CATEGORIES = [\"with_mask\", \"without_mask\"]"
   ]
  },
  {
   "cell_type": "code",
   "execution_count": 4,
   "metadata": {},
   "outputs": [
    {
     "name": "stdout",
     "output_type": "stream",
     "text": [
      "[INFO] loading images...\n"
     ]
    }
   ],
   "source": [
    "print(\"[INFO] loading images...\")\n"
   ]
  },
  {
   "cell_type": "code",
   "execution_count": 5,
   "metadata": {},
   "outputs": [],
   "source": [
    "data = []\n",
    "labels = []"
   ]
  },
  {
   "cell_type": "code",
   "execution_count": 6,
   "metadata": {},
   "outputs": [],
   "source": [
    "for category in CATEGORIES:\n",
    "    path = os.path.join(DIRECTORY, category)\n",
    "    for img in os.listdir(path):\n",
    "    \timg_path = os.path.join(path, img)\n",
    "    \timage = load_img(img_path, target_size=(224, 224))\n",
    "    \timage = img_to_array(image)\n",
    "    \timage = preprocess_input(image)\n",
    "\n",
    "    \tdata.append(image)\n",
    "    \tlabels.append(category)\n"
   ]
  },
  {
   "cell_type": "code",
   "execution_count": 7,
   "metadata": {},
   "outputs": [],
   "source": [
    "lb = LabelBinarizer()\n",
    "labels = lb.fit_transform(labels)\n",
    "labels = to_categorical(labels)"
   ]
  },
  {
   "cell_type": "code",
   "execution_count": 8,
   "metadata": {},
   "outputs": [],
   "source": [
    "data = np.array(data, dtype=\"float32\")\n",
    "labels = np.array(labels)\n"
   ]
  },
  {
   "cell_type": "code",
   "execution_count": 9,
   "metadata": {},
   "outputs": [],
   "source": [
    "(trainX, testX, trainY, testY) = train_test_split(data, labels,\n",
    "\ttest_size=0.20, stratify=labels, random_state=42)\n"
   ]
  },
  {
   "cell_type": "code",
   "execution_count": 10,
   "metadata": {},
   "outputs": [],
   "source": [
    "aug = ImageDataGenerator(\n",
    "\trotation_range=20,\n",
    "\tzoom_range=0.15,\n",
    "\twidth_shift_range=0.2,\n",
    "\theight_shift_range=0.2,\n",
    "\tshear_range=0.15,\n",
    "\thorizontal_flip=True,\n",
    "\tfill_mode=\"nearest\")"
   ]
  },
  {
   "cell_type": "code",
   "execution_count": 11,
   "metadata": {},
   "outputs": [
    {
     "name": "stdout",
     "output_type": "stream",
     "text": [
      "WARNING:tensorflow:`input_shape` is undefined or non-square, or `rows` is not in [96, 128, 160, 192, 224]. Weights for input shape (224, 224) will be loaded as the default.\n"
     ]
    }
   ],
   "source": [
    "baseModel = MobileNetV2(weights=\"imagenet\", include_top=False,\n",
    "    input_tensor=Input(shape=(224, 224, 3)))"
   ]
  },
  {
   "cell_type": "code",
   "execution_count": 12,
   "metadata": {},
   "outputs": [],
   "source": [
    "headModel = baseModel.output\n",
    "headModel = AveragePooling2D(pool_size=(7, 7))(headModel)\n",
    "headModel = Flatten(name=\"flatten\")(headModel)\n",
    "headModel = Dense(128, activation=\"relu\")(headModel)\n",
    "headModel = Dropout(0.5)(headModel)\n",
    "headModel = Dense(2, activation=\"softmax\")(headModel)"
   ]
  },
  {
   "cell_type": "code",
   "execution_count": 13,
   "metadata": {},
   "outputs": [],
   "source": [
    "model = Model(inputs=baseModel.input, outputs=headModel)\n"
   ]
  },
  {
   "cell_type": "code",
   "execution_count": 14,
   "metadata": {},
   "outputs": [],
   "source": [
    "for layer in baseModel.layers:\n",
    "\tlayer.trainable = False\n"
   ]
  },
  {
   "cell_type": "code",
   "execution_count": 15,
   "metadata": {},
   "outputs": [
    {
     "name": "stdout",
     "output_type": "stream",
     "text": [
      "Compilation of the MODEL is going on...\n"
     ]
    }
   ],
   "source": [
    "print(\"Compilation of the MODEL is going on...\")\n",
    "opt = Adam(lr=INIT_LR, decay=INIT_LR / EPOCHS)\n",
    "model.compile(loss=\"binary_crossentropy\", optimizer=opt,\n",
    "\tmetrics=[\"accuracy\"])\n"
   ]
  },
  {
   "cell_type": "code",
   "execution_count": 16,
   "metadata": {},
   "outputs": [
    {
     "name": "stdout",
     "output_type": "stream",
     "text": [
      "Training Head Started...\n",
      "Epoch 1/20\n",
      "34/34 [==============================] - 123s 3s/step - loss: 0.6856 - accuracy: 0.6609 - val_loss: 0.2420 - val_accuracy: 0.9710\n",
      "Epoch 2/20\n",
      "34/34 [==============================] - 97s 3s/step - loss: 0.2423 - accuracy: 0.9598 - val_loss: 0.1051 - val_accuracy: 0.9891\n",
      "Epoch 3/20\n",
      "34/34 [==============================] - 96s 3s/step - loss: 0.1226 - accuracy: 0.9821 - val_loss: 0.0643 - val_accuracy: 0.9891\n",
      "Epoch 4/20\n",
      "34/34 [==============================] - 97s 3s/step - loss: 0.0923 - accuracy: 0.9869 - val_loss: 0.0477 - val_accuracy: 0.9891\n",
      "Epoch 5/20\n",
      "34/34 [==============================] - 99s 3s/step - loss: 0.0703 - accuracy: 0.9899 - val_loss: 0.0367 - val_accuracy: 0.9928\n",
      "Epoch 6/20\n",
      "34/34 [==============================] - 90s 3s/step - loss: 0.0610 - accuracy: 0.9848 - val_loss: 0.0310 - val_accuracy: 0.9928\n",
      "Epoch 7/20\n",
      "34/34 [==============================] - 65s 2s/step - loss: 0.0483 - accuracy: 0.9907 - val_loss: 0.0269 - val_accuracy: 0.9964\n",
      "Epoch 8/20\n",
      "34/34 [==============================] - 96s 3s/step - loss: 0.0325 - accuracy: 0.9967 - val_loss: 0.0230 - val_accuracy: 1.0000\n",
      "Epoch 9/20\n",
      "34/34 [==============================] - 96s 3s/step - loss: 0.0270 - accuracy: 0.9978 - val_loss: 0.0205 - val_accuracy: 0.9964\n",
      "Epoch 10/20\n",
      "34/34 [==============================] - 97s 3s/step - loss: 0.0279 - accuracy: 0.9928 - val_loss: 0.0184 - val_accuracy: 0.9964\n",
      "Epoch 11/20\n",
      "34/34 [==============================] - 100s 3s/step - loss: 0.0301 - accuracy: 0.9950 - val_loss: 0.0168 - val_accuracy: 1.0000\n",
      "Epoch 12/20\n",
      "34/34 [==============================] - 97s 3s/step - loss: 0.0282 - accuracy: 0.9952 - val_loss: 0.0159 - val_accuracy: 0.9964\n",
      "Epoch 13/20\n",
      "34/34 [==============================] - 97s 3s/step - loss: 0.0264 - accuracy: 0.9965 - val_loss: 0.0145 - val_accuracy: 1.0000\n",
      "Epoch 14/20\n",
      "34/34 [==============================] - 97s 3s/step - loss: 0.0180 - accuracy: 0.9966 - val_loss: 0.0138 - val_accuracy: 1.0000\n",
      "Epoch 15/20\n",
      "34/34 [==============================] - 98s 3s/step - loss: 0.0157 - accuracy: 0.9982 - val_loss: 0.0127 - val_accuracy: 1.0000\n",
      "Epoch 16/20\n",
      "34/34 [==============================] - 96s 3s/step - loss: 0.0114 - accuracy: 0.9994 - val_loss: 0.0120 - val_accuracy: 1.0000\n",
      "Epoch 17/20\n",
      "34/34 [==============================] - 95s 3s/step - loss: 0.0158 - accuracy: 0.9982 - val_loss: 0.0121 - val_accuracy: 1.0000\n",
      "Epoch 18/20\n",
      "34/34 [==============================] - 97s 3s/step - loss: 0.0225 - accuracy: 0.9953 - val_loss: 0.0115 - val_accuracy: 1.0000\n",
      "Epoch 19/20\n",
      "34/34 [==============================] - 98s 3s/step - loss: 0.0187 - accuracy: 0.9933 - val_loss: 0.0108 - val_accuracy: 1.0000\n",
      "Epoch 20/20\n",
      "34/34 [==============================] - 96s 3s/step - loss: 0.0135 - accuracy: 0.9967 - val_loss: 0.0104 - val_accuracy: 1.0000\n",
      "Network evaluation...\n",
      "              precision    recall  f1-score   support\n",
      "\n",
      "   with_mask       1.00      1.00      1.00       138\n",
      "without_mask       1.00      1.00      1.00       138\n",
      "\n",
      "    accuracy                           1.00       276\n",
      "   macro avg       1.00      1.00      1.00       276\n",
      "weighted avg       1.00      1.00      1.00       276\n",
      "\n"
     ]
    }
   ],
   "source": [
    "print(\"Training Head Started...\")\n",
    "H = model.fit(\n",
    "\taug.flow(trainX, trainY, batch_size=BS),\n",
    "\tsteps_per_epoch=len(trainX) // BS,\n",
    "\tvalidation_data=(testX, testY),\n",
    "\tvalidation_steps=len(testX) // BS,\n",
    "\tepochs=EPOCHS)\n",
    "\n",
    "# make predictions on the testing set\n",
    "print(\"Network evaluation...\")\n",
    "predIdxs = model.predict(testX, batch_size=BS)\n",
    "predIdxs = np.argmax(predIdxs, axis=1)\n",
    "\n",
    "# show a nicely formatted classification report\n",
    "print(classification_report(testY.argmax(axis=1), predIdxs,\n",
    "\ttarget_names=lb.classes_))\n"
   ]
  },
  {
   "cell_type": "code",
   "execution_count": 17,
   "metadata": {},
   "outputs": [
    {
     "name": "stdout",
     "output_type": "stream",
     "text": [
      "saving mask model...\n"
     ]
    }
   ],
   "source": [
    "print(\"saving mask model...\")\n",
    "model.save(\"mask_detector.model\", save_format=\"h5\")\n"
   ]
  },
  {
   "cell_type": "code",
   "execution_count": 18,
   "metadata": {},
   "outputs": [
    {
     "data": {
      "image/png": "[encoded data removed]",
      "text/plain": [
       "<Figure size 432x288 with 1 Axes>"
      ]
     },
     "metadata": {},
     "output_type": "display_data"
    }
   ],
   "source": [
    "N = EPOCHS\n",
    "plt.style.use(\"ggplot\")\n",
    "plt.figure()\n",
    "plt.plot(np.arange(0, N), H.history[\"loss\"], label=\"train_loss\")\n",
    "plt.plot(np.arange(0, N), H.history[\"val_loss\"], label=\"val_loss\")\n",
    "plt.plot(np.arange(0, N), H.history[\"accuracy\"], label=\"train_acc\")\n",
    "plt.plot(np.arange(0, N), H.history[\"val_accuracy\"], label=\"val_acc\")\n",
    "plt.title(\"Training Loss and Accuracy\")\n",
    "plt.xlabel(\"Epoch #\")\n",
    "plt.ylabel(\"Loss/Accuracy\")\n",
    "plt.legend(loc=\"lower left\")\n",
    "plt.savefig(\"plot.png\")"
   ]
  },
  {
   "cell_type": "code",
   "execution_count": null,
   "metadata": {},
   "outputs": [],
   "source": []
  },
  {
   "cell_type": "code",
   "execution_count": null,
   "metadata": {},
   "outputs": [],
   "source": []
  },
  {
   "cell_type": "code",
   "execution_count": null,
   "metadata": {},
   "outputs": [],
   "source": []
  }
 ],
 "metadata": {
  "kernelspec": {
   "display_name": "Python 3",
   "language": "python",
   "name": "python3"
  },
  "language_info": {
   "codemirror_mode": {
    "name": "ipython",
    "version": 3
   },
   "file_extension": ".py",
   "mimetype": "text/x-python",
   "name": "python",
   "nbconvert_exporter": "python",
   "pygments_lexer": "ipython3",
   "version": "3.8.5"
  }
 },
 "nbformat": 4,
 "nbformat_minor": 4
}
